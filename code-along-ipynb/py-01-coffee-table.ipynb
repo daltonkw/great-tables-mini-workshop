{
  "cells": [
    {
      "cell_type": "markdown",
      "metadata": {},
      "source": [
        "# Code Along: Coffee Table\n",
        "\n",
        "## Start\n",
        "\n",
        "Setting up."
      ]
    },
    {
      "cell_type": "code",
      "execution_count": 12,
      "metadata": {},
      "outputs": [],
      "source": [
        "import os\n",
        "import json\n",
        "os.chdir('/home/jovyan/work')"
      ]
    },
    {
      "cell_type": "code",
      "execution_count": 4,
      "metadata": {},
      "outputs": [],
      "source": [
        "import polars as pl\n",
        "import polars.selectors as cs\n",
        "from great_tables import GT, loc, style"
      ]
    },
    {
      "cell_type": "markdown",
      "metadata": {},
      "source": [
        "Importing the data."
      ]
    },
    {
      "cell_type": "code",
      "execution_count": null,
      "metadata": {},
      "outputs": [],
      "source": [
        "coffee_sales = pl.DataFrame.deserialize(\"coffee-sales.json\", format=\"json\")\n",
        "coffee_sales"
      ]
    },
    {
      "cell_type": "code",
      "execution_count": 13,
      "metadata": {},
      "outputs": [
        {
          "data": {
            "text/html": [
              "<div><style>\n",
              ".dataframe > thead > tr,\n",
              ".dataframe > tbody > tr {\n",
              "  text-align: right;\n",
              "  white-space: pre-wrap;\n",
              "}\n",
              "</style>\n",
              "<small>shape: (14, 7)</small><table border=\"1\" class=\"dataframe\"><thead><tr><th>icon</th><th>product</th><th>revenue_dollars</th><th>revenue_pct</th><th>profit_dollars</th><th>profit_pct</th><th>monthly_sales</th></tr><tr><td>str</td><td>str</td><td>f64</td><td>f64</td><td>f64</td><td>f64</td><td>list[i64]</td></tr></thead><tbody><tr><td>&quot;grinder.png&quot;</td><td>&quot;Grinder&quot;</td><td>904500.0</td><td>0.03</td><td>567960.0</td><td>0.04</td><td>[521, 494, … 751]</td></tr><tr><td>&quot;moka-pot.png&quot;</td><td>&quot;Moka pot&quot;</td><td>2.04525e6</td><td>0.07</td><td>181080.0</td><td>0.01</td><td>[4726, 4741, … 6283]</td></tr><tr><td>&quot;cold-brew.png&quot;</td><td>&quot;Cold brew&quot;</td><td>288750.0</td><td>0.01</td><td>241770.0</td><td>0.02</td><td>[244, 249, … 244]</td></tr><tr><td>&quot;filter.png&quot;</td><td>&quot;Filter&quot;</td><td>404250.0</td><td>0.01</td><td>70010.0</td><td>0.0</td><td>[2067, 1809, … 2744]</td></tr><tr><td>&quot;drip-machine.png&quot;</td><td>&quot;Drip machine&quot;</td><td>2.632e6</td><td>0.09</td><td>1.37445e6</td><td>0.09</td><td>[2137, 1623, … 2328]</td></tr><tr><td>&hellip;</td><td>&hellip;</td><td>&hellip;</td><td>&hellip;</td><td>&hellip;</td><td>&hellip;</td><td>&hellip;</td></tr><tr><td>&quot;chemex.png&quot;</td><td>&quot;Chemex&quot;</td><td>3.13725e6</td><td>0.11</td><td>817680.0</td><td>0.06</td><td>[4938, 4167, … 7220]</td></tr><tr><td>&quot;scale.png&quot;</td><td>&quot;Scale&quot;</td><td>3.801e6</td><td>0.13</td><td>2.91029e6</td><td>0.2</td><td>[1542, 1566, … 3180]</td></tr><tr><td>&quot;kettle.png&quot;</td><td>&quot;Kettle&quot;</td><td>756250.0</td><td>0.03</td><td>617520.0</td><td>0.04</td><td>[1139, 1023, … 1529]</td></tr><tr><td>&quot;espresso-machine.png&quot;</td><td>&quot;Espresso Machine&quot;</td><td>8.406e6</td><td>0.29</td><td>3.63644e6</td><td>0.25</td><td>[686, 840, … 2577]</td></tr><tr><td>null</td><td>&quot;Total&quot;</td><td>2.94485e7</td><td>1.0</td><td>1.479315e7</td><td>1.0</td><td>null</td></tr></tbody></table></div>"
            ],
            "text/plain": [
              "shape: (14, 7)\n",
              "┌──────────────┬──────────────┬─────────────┬─────────────┬─────────────┬────────────┬─────────────┐\n",
              "│ icon         ┆ product      ┆ revenue_dol ┆ revenue_pct ┆ profit_doll ┆ profit_pct ┆ monthly_sal │\n",
              "│ ---          ┆ ---          ┆ lars        ┆ ---         ┆ ars         ┆ ---        ┆ es          │\n",
              "│ str          ┆ str          ┆ ---         ┆ f64         ┆ ---         ┆ f64        ┆ ---         │\n",
              "│              ┆              ┆ f64         ┆             ┆ f64         ┆            ┆ list[i64]   │\n",
              "╞══════════════╪══════════════╪═════════════╪═════════════╪═════════════╪════════════╪═════════════╡\n",
              "│ grinder.png  ┆ Grinder      ┆ 904500.0    ┆ 0.03        ┆ 567960.0    ┆ 0.04       ┆ [521, 494,  │\n",
              "│              ┆              ┆             ┆             ┆             ┆            ┆ … 751]      │\n",
              "│ moka-pot.png ┆ Moka pot     ┆ 2.04525e6   ┆ 0.07        ┆ 181080.0    ┆ 0.01       ┆ [4726,      │\n",
              "│              ┆              ┆             ┆             ┆             ┆            ┆ 4741, …     │\n",
              "│              ┆              ┆             ┆             ┆             ┆            ┆ 6283]       │\n",
              "│ cold-brew.pn ┆ Cold brew    ┆ 288750.0    ┆ 0.01        ┆ 241770.0    ┆ 0.02       ┆ [244, 249,  │\n",
              "│ g            ┆              ┆             ┆             ┆             ┆            ┆ … 244]      │\n",
              "│ filter.png   ┆ Filter       ┆ 404250.0    ┆ 0.01        ┆ 70010.0     ┆ 0.0        ┆ [2067,      │\n",
              "│              ┆              ┆             ┆             ┆             ┆            ┆ 1809, …     │\n",
              "│              ┆              ┆             ┆             ┆             ┆            ┆ 2744]       │\n",
              "│ drip-machine ┆ Drip machine ┆ 2.632e6     ┆ 0.09        ┆ 1.37445e6   ┆ 0.09       ┆ [2137,      │\n",
              "│ .png         ┆              ┆             ┆             ┆             ┆            ┆ 1623, …     │\n",
              "│              ┆              ┆             ┆             ┆             ┆            ┆ 2328]       │\n",
              "│ …            ┆ …            ┆ …           ┆ …           ┆ …           ┆ …          ┆ …           │\n",
              "│ chemex.png   ┆ Chemex       ┆ 3.13725e6   ┆ 0.11        ┆ 817680.0    ┆ 0.06       ┆ [4938,      │\n",
              "│              ┆              ┆             ┆             ┆             ┆            ┆ 4167, …     │\n",
              "│              ┆              ┆             ┆             ┆             ┆            ┆ 7220]       │\n",
              "│ scale.png    ┆ Scale        ┆ 3.801e6     ┆ 0.13        ┆ 2.91029e6   ┆ 0.2        ┆ [1542,      │\n",
              "│              ┆              ┆             ┆             ┆             ┆            ┆ 1566, …     │\n",
              "│              ┆              ┆             ┆             ┆             ┆            ┆ 3180]       │\n",
              "│ kettle.png   ┆ Kettle       ┆ 756250.0    ┆ 0.03        ┆ 617520.0    ┆ 0.04       ┆ [1139,      │\n",
              "│              ┆              ┆             ┆             ┆             ┆            ┆ 1023, …     │\n",
              "│              ┆              ┆             ┆             ┆             ┆            ┆ 1529]       │\n",
              "│ espresso-mac ┆ Espresso     ┆ 8.406e6     ┆ 0.29        ┆ 3.63644e6   ┆ 0.25       ┆ [686, 840,  │\n",
              "│ hine.png     ┆ Machine      ┆             ┆             ┆             ┆            ┆ … 2577]     │\n",
              "│ null         ┆ Total        ┆ 2.94485e7   ┆ 1.0         ┆ 1.479315e7  ┆ 1.0        ┆ null        │\n",
              "└──────────────┴──────────────┴─────────────┴─────────────┴─────────────┴────────────┴─────────────┘"
            ]
          },
          "execution_count": 13,
          "metadata": {},
          "output_type": "execute_result"
        }
      ],
      "source": [
        "with open(\"coffee-sales.json\", \"r\") as f:\n",
        "    raw = json.load(f)\n",
        "\n",
        "df_dict = {}\n",
        "for col in raw[\"columns\"]:\n",
        "    # Handle list columns\n",
        "    if isinstance(col[\"datatype\"], dict) and \"List\" in col[\"datatype\"]:\n",
        "        df_dict[col[\"name\"]] = [\n",
        "            row[\"values\"] if row else None for row in col[\"values\"]\n",
        "        ]\n",
        "    else:\n",
        "        df_dict[col[\"name\"]] = col[\"values\"]\n",
        "\n",
        "coffee_sales = pl.DataFrame(df_dict)\n",
        "coffee_sales"
      ]
    },
    {
      "cell_type": "markdown",
      "metadata": {},
      "source": [
        "Let's get the data into Great Tables."
      ]
    },
    {
      "cell_type": "code",
      "execution_count": null,
      "metadata": {},
      "outputs": [],
      "source": [
        "gt_tbl_1 = #\n",
        "\n",
        "gt_tbl_1"
      ]
    },
    {
      "cell_type": "markdown",
      "metadata": {},
      "source": [
        "## Structure Basics\n",
        "\n",
        "Add a title to the table to explain contents."
      ]
    },
    {
      "cell_type": "code",
      "execution_count": null,
      "metadata": {},
      "outputs": [],
      "source": [
        "gt_tbl_2 = # (\n",
        "    #gt_tbl_1\n",
        "#)\n",
        "\n",
        "gt_tbl_2"
      ]
    },
    {
      "cell_type": "markdown",
      "metadata": {},
      "source": [
        "Group numerical columns with a spanner. One grouping should be for revenue columns, another should be for profit columns."
      ]
    },
    {
      "cell_type": "code",
      "execution_count": null,
      "metadata": {},
      "outputs": [],
      "source": [
        "gt_tbl_3 = # (\n",
        "    #gt_tbl_2\n",
        "#)\n",
        "\n",
        "gt_tbl_3"
      ]
    },
    {
      "cell_type": "markdown",
      "metadata": {},
      "source": [
        "Change Column labels for readability. The column names are:\n",
        "`icon`, `product`, `revenue_dollars`, `revenue_pct`, `profit_dollars`, `profit_pct`, and `monthly_sales`."
      ]
    },
    {
      "cell_type": "code",
      "execution_count": null,
      "metadata": {},
      "outputs": [],
      "source": [
        "gt_tbl_4 = # (\n",
        "    #gt_tbl_3\n",
        "#)\n",
        "\n",
        "gt_tbl_4"
      ]
    },
    {
      "cell_type": "markdown",
      "metadata": {},
      "source": [
        "## Formatting Basics\n",
        "\n",
        "Format the currency values to make them look better."
      ]
    },
    {
      "cell_type": "code",
      "execution_count": null,
      "metadata": {},
      "outputs": [],
      "source": [
        "gt_tbl_5 = # (\n",
        "    #gt_tbl_4\n",
        "#)\n",
        "\n",
        "gt_tbl_5"
      ]
    },
    {
      "cell_type": "markdown",
      "metadata": {},
      "source": [
        "Format the fractional values by turning them into percentages."
      ]
    },
    {
      "cell_type": "code",
      "execution_count": null,
      "metadata": {},
      "outputs": [],
      "source": [
        "gt_tbl_6 = # (\n",
        "    #gt_tbl_5\n",
        "#)\n",
        "\n",
        "gt_tbl_6"
      ]
    },
    {
      "cell_type": "markdown",
      "metadata": {},
      "source": [
        "## Styling with tab_style()\n",
        "\n",
        "Add an 'aliceblue' background to columns pertaining to revenue."
      ]
    },
    {
      "cell_type": "code",
      "execution_count": null,
      "metadata": {},
      "outputs": [],
      "source": [
        "gt_tbl_7 = # (\n",
        "    #gt_tbl_6\n",
        "#)\n",
        "\n",
        "gt_tbl_7"
      ]
    },
    {
      "cell_type": "markdown",
      "metadata": {},
      "source": [
        "Add an 'papayawhip' background to columns pertaining to profit."
      ]
    },
    {
      "cell_type": "code",
      "execution_count": null,
      "metadata": {},
      "outputs": [],
      "source": [
        "gt_tbl_8 = # (\n",
        "    #gt_tbl_7\n",
        "#)\n",
        "\n",
        "gt_tbl_8"
      ]
    },
    {
      "cell_type": "markdown",
      "metadata": {},
      "source": [
        "Make the text bold in the bottom row (the totals column)."
      ]
    },
    {
      "cell_type": "code",
      "execution_count": null,
      "metadata": {},
      "outputs": [],
      "source": [
        "gt_tbl_9 = # (\n",
        "    #gt_tbl_8\n",
        "#)\n",
        "\n",
        "gt_tbl_9"
      ]
    },
    {
      "cell_type": "markdown",
      "metadata": {},
      "source": [
        "## Three Last Things\n",
        "\n",
        "Add a column of bar plots using the monthly revenue column."
      ]
    },
    {
      "cell_type": "code",
      "execution_count": null,
      "metadata": {},
      "outputs": [],
      "source": [
        "gt_tbl_10 = # (\n",
        "    #gt_tbl_9\n",
        "#)\n",
        "\n",
        "gt_tbl_10"
      ]
    },
    {
      "cell_type": "markdown",
      "metadata": {},
      "source": [
        "Add images to the `icon` column. The images are in the `img` directory."
      ]
    },
    {
      "cell_type": "code",
      "execution_count": null,
      "metadata": {},
      "outputs": [],
      "source": [
        "gt_tbl_11 = # (\n",
        "    #gt_tbl_10\n",
        "#)\n",
        "\n",
        "gt_tbl_11"
      ]
    },
    {
      "cell_type": "markdown",
      "metadata": {},
      "source": [
        "Turn the `None` cell into a blank cell."
      ]
    },
    {
      "cell_type": "code",
      "execution_count": null,
      "metadata": {},
      "outputs": [],
      "source": [
        "gt_tbl_12 = # (\n",
        "    #gt_tbl_11\n",
        "#)\n",
        "\n",
        "gt_tbl_12"
      ]
    }
  ],
  "metadata": {
    "kernelspec": {
      "display_name": "Python 3 (ipykernel)",
      "language": "python",
      "name": "python3"
    }
  },
  "nbformat": 4,
  "nbformat_minor": 4
}
